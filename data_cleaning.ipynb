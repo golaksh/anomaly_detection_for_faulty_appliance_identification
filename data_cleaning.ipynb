{
 "cells": [
  {
   "cell_type": "markdown",
   "metadata": {},
   "source": [
    "Energy Data Analysis for Uniflats"
   ]
  },
  {
   "cell_type": "code",
   "execution_count": 1,
   "metadata": {},
   "outputs": [],
   "source": [
    "#code by Lakshmi Ajith, June 2025"
   ]
  },
  {
   "cell_type": "code",
   "execution_count": 2,
   "metadata": {},
   "outputs": [
    {
     "name": "stdout",
     "output_type": "stream",
     "text": [
      "Retrieving notices: done\n",
      "Channels:\n",
      " - defaults\n",
      " - anaconda\n",
      "Platform: osx-arm64\n",
      "Collecting package metadata (repodata.json): done\n",
      "Solving environment: done\n",
      "\n",
      "# All requested packages already installed.\n",
      "\n",
      "\n",
      "Note: you may need to restart the kernel to use updated packages.\n"
     ]
    }
   ],
   "source": [
    "%conda install pandas numpy matplotlib seaborn -y"
   ]
  },
  {
   "cell_type": "code",
   "execution_count": 3,
   "metadata": {},
   "outputs": [],
   "source": [
    "import pandas as pd\n",
    "import numpy as np\n",
    "import matplotlib.pyplot as plt\n",
    "import seaborn as sns\n",
    "from datetime import datetime"
   ]
  },
  {
   "cell_type": "code",
   "execution_count": 4,
   "metadata": {},
   "outputs": [],
   "source": [
    "#energy consumption data\n",
    "energy_data_all = pd.read_csv('University_of_Otago_HHD.csv', low_memory=False)\n"
   ]
  },
  {
   "cell_type": "code",
   "execution_count": 5,
   "metadata": {},
   "outputs": [
    {
     "name": "stderr",
     "output_type": "stream",
     "text": [
      "/var/folders/wf/4vqzth_91752z8x8r4nch0k80000gn/T/ipykernel_13463/2078146268.py:1: UserWarning: Could not infer format, so each element will be parsed individually, falling back to `dateutil`. To ensure parsing is consistent and as-expected, please specify a format.\n",
      "  energy_data_all['INTERVAL_DATE'] = pd.to_datetime(energy_data_all['INTERVAL_DATE'])\n"
     ]
    }
   ],
   "source": [
    "\n",
    "energy_data_all['INTERVAL_DATE'] = pd.to_datetime(energy_data_all['INTERVAL_DATE'])"
   ]
  },
  {
   "cell_type": "code",
   "execution_count": 6,
   "metadata": {},
   "outputs": [
    {
     "name": "stdout",
     "output_type": "stream",
     "text": [
      "Dataset Overview:\n",
      "Shape: (342900, 54) (rows, columns)\n",
      "Date range: 2022-01-01 00:00:00 to 2024-09-02 00:00:00\n",
      "Total properties: 270\n"
     ]
    }
   ],
   "source": [
    "#dataset structure\n",
    "print(\"Dataset Overview:\")\n",
    "print(f\"Shape: {energy_data_all.shape} (rows, columns)\")\n",
    "print(f\"Date range: {energy_data_all['INTERVAL_DATE'].min()} to {energy_data_all['INTERVAL_DATE'].max()}\")\n",
    "print(f\"Total properties: {energy_data_all['ICP_IDENTIFIER'].nunique()}\")\n"
   ]
  },
  {
   "cell_type": "code",
   "execution_count": 7,
   "metadata": {},
   "outputs": [
    {
     "data": {
      "text/html": [
       "<div>\n",
       "<style scoped>\n",
       "    .dataframe tbody tr th:only-of-type {\n",
       "        vertical-align: middle;\n",
       "    }\n",
       "\n",
       "    .dataframe tbody tr th {\n",
       "        vertical-align: top;\n",
       "    }\n",
       "\n",
       "    .dataframe thead th {\n",
       "        text-align: right;\n",
       "    }\n",
       "</style>\n",
       "<table border=\"1\" class=\"dataframe\">\n",
       "  <thead>\n",
       "    <tr style=\"text-align: right;\">\n",
       "      <th></th>\n",
       "      <th>ICP_IDENTIFIER</th>\n",
       "      <th>REGISTER_CONTENTS</th>\n",
       "      <th>INTERVAL_DATE</th>\n",
       "      <th>Total_Consumption</th>\n",
       "      <th>00.00-00.30</th>\n",
       "      <th>00.30-01.00</th>\n",
       "      <th>01.00-01.30</th>\n",
       "      <th>01.30-02.00</th>\n",
       "      <th>02.00-02.30</th>\n",
       "      <th>02.30-03.00</th>\n",
       "      <th>...</th>\n",
       "      <th>20.00-20.30</th>\n",
       "      <th>20.30-21.00</th>\n",
       "      <th>21.00-21.30</th>\n",
       "      <th>21.30-22.00</th>\n",
       "      <th>22.00-22.30</th>\n",
       "      <th>22.30-23.00</th>\n",
       "      <th>23.00-23.30</th>\n",
       "      <th>23.30-24.00</th>\n",
       "      <th>24.00-24.30</th>\n",
       "      <th>24.30-25.00</th>\n",
       "    </tr>\n",
       "  </thead>\n",
       "  <tbody>\n",
       "    <tr>\n",
       "      <th>0</th>\n",
       "      <td>0000002443DEDCD</td>\n",
       "      <td>CN8</td>\n",
       "      <td>2022-01-01</td>\n",
       "      <td>0</td>\n",
       "      <td>0.00</td>\n",
       "      <td>0.00</td>\n",
       "      <td>0.00</td>\n",
       "      <td>0.00</td>\n",
       "      <td>0.00</td>\n",
       "      <td>0.00</td>\n",
       "      <td>...</td>\n",
       "      <td>0.00</td>\n",
       "      <td>0.00</td>\n",
       "      <td>0.00</td>\n",
       "      <td>0.00</td>\n",
       "      <td>0.00</td>\n",
       "      <td>0.00</td>\n",
       "      <td>0.00</td>\n",
       "      <td>0.00</td>\n",
       "      <td>NaN</td>\n",
       "      <td>NaN</td>\n",
       "    </tr>\n",
       "    <tr>\n",
       "      <th>1</th>\n",
       "      <td>0000002443DEDCD</td>\n",
       "      <td>UN24</td>\n",
       "      <td>2022-01-01</td>\n",
       "      <td>3.26</td>\n",
       "      <td>0.07</td>\n",
       "      <td>0.07</td>\n",
       "      <td>0.07</td>\n",
       "      <td>0.07</td>\n",
       "      <td>0.07</td>\n",
       "      <td>0.07</td>\n",
       "      <td>...</td>\n",
       "      <td>0.01</td>\n",
       "      <td>0.51</td>\n",
       "      <td>0.00</td>\n",
       "      <td>0.06</td>\n",
       "      <td>0.06</td>\n",
       "      <td>0.07</td>\n",
       "      <td>0.07</td>\n",
       "      <td>0.06</td>\n",
       "      <td>NaN</td>\n",
       "      <td>NaN</td>\n",
       "    </tr>\n",
       "    <tr>\n",
       "      <th>2</th>\n",
       "      <td>0000002443DEDCD</td>\n",
       "      <td>CN8</td>\n",
       "      <td>2022-01-02</td>\n",
       "      <td>0</td>\n",
       "      <td>0.00</td>\n",
       "      <td>0.00</td>\n",
       "      <td>0.00</td>\n",
       "      <td>0.00</td>\n",
       "      <td>0.00</td>\n",
       "      <td>0.00</td>\n",
       "      <td>...</td>\n",
       "      <td>0.00</td>\n",
       "      <td>0.00</td>\n",
       "      <td>0.00</td>\n",
       "      <td>0.00</td>\n",
       "      <td>0.00</td>\n",
       "      <td>0.00</td>\n",
       "      <td>0.00</td>\n",
       "      <td>0.00</td>\n",
       "      <td>NaN</td>\n",
       "      <td>NaN</td>\n",
       "    </tr>\n",
       "    <tr>\n",
       "      <th>3</th>\n",
       "      <td>0000002443DEDCD</td>\n",
       "      <td>UN24</td>\n",
       "      <td>2022-01-02</td>\n",
       "      <td>3.23</td>\n",
       "      <td>0.07</td>\n",
       "      <td>0.06</td>\n",
       "      <td>0.06</td>\n",
       "      <td>0.07</td>\n",
       "      <td>0.35</td>\n",
       "      <td>0.28</td>\n",
       "      <td>...</td>\n",
       "      <td>0.01</td>\n",
       "      <td>0.01</td>\n",
       "      <td>0.01</td>\n",
       "      <td>0.06</td>\n",
       "      <td>0.07</td>\n",
       "      <td>0.06</td>\n",
       "      <td>0.07</td>\n",
       "      <td>0.06</td>\n",
       "      <td>NaN</td>\n",
       "      <td>NaN</td>\n",
       "    </tr>\n",
       "    <tr>\n",
       "      <th>4</th>\n",
       "      <td>0000002443DEDCD</td>\n",
       "      <td>CN8</td>\n",
       "      <td>2022-01-03</td>\n",
       "      <td>0</td>\n",
       "      <td>0.00</td>\n",
       "      <td>0.00</td>\n",
       "      <td>0.00</td>\n",
       "      <td>0.00</td>\n",
       "      <td>0.00</td>\n",
       "      <td>0.00</td>\n",
       "      <td>...</td>\n",
       "      <td>0.00</td>\n",
       "      <td>0.00</td>\n",
       "      <td>0.00</td>\n",
       "      <td>0.00</td>\n",
       "      <td>0.00</td>\n",
       "      <td>0.00</td>\n",
       "      <td>0.00</td>\n",
       "      <td>0.00</td>\n",
       "      <td>NaN</td>\n",
       "      <td>NaN</td>\n",
       "    </tr>\n",
       "  </tbody>\n",
       "</table>\n",
       "<p>5 rows × 54 columns</p>\n",
       "</div>"
      ],
      "text/plain": [
       "    ICP_IDENTIFIER REGISTER_CONTENTS INTERVAL_DATE Total_Consumption  \\\n",
       "0  0000002443DEDCD               CN8    2022-01-01                 0   \n",
       "1  0000002443DEDCD              UN24    2022-01-01              3.26   \n",
       "2  0000002443DEDCD               CN8    2022-01-02                 0   \n",
       "3  0000002443DEDCD              UN24    2022-01-02              3.23   \n",
       "4  0000002443DEDCD               CN8    2022-01-03                 0   \n",
       "\n",
       "   00.00-00.30  00.30-01.00  01.00-01.30  01.30-02.00  02.00-02.30  \\\n",
       "0         0.00         0.00         0.00         0.00         0.00   \n",
       "1         0.07         0.07         0.07         0.07         0.07   \n",
       "2         0.00         0.00         0.00         0.00         0.00   \n",
       "3         0.07         0.06         0.06         0.07         0.35   \n",
       "4         0.00         0.00         0.00         0.00         0.00   \n",
       "\n",
       "   02.30-03.00  ...  20.00-20.30  20.30-21.00  21.00-21.30  21.30-22.00  \\\n",
       "0         0.00  ...         0.00         0.00         0.00         0.00   \n",
       "1         0.07  ...         0.01         0.51         0.00         0.06   \n",
       "2         0.00  ...         0.00         0.00         0.00         0.00   \n",
       "3         0.28  ...         0.01         0.01         0.01         0.06   \n",
       "4         0.00  ...         0.00         0.00         0.00         0.00   \n",
       "\n",
       "   22.00-22.30  22.30-23.00  23.00-23.30  23.30-24.00  24.00-24.30  \\\n",
       "0         0.00         0.00         0.00         0.00          NaN   \n",
       "1         0.06         0.07         0.07         0.06          NaN   \n",
       "2         0.00         0.00         0.00         0.00          NaN   \n",
       "3         0.07         0.06         0.07         0.06          NaN   \n",
       "4         0.00         0.00         0.00         0.00          NaN   \n",
       "\n",
       "   24.30-25.00  \n",
       "0          NaN  \n",
       "1          NaN  \n",
       "2          NaN  \n",
       "3          NaN  \n",
       "4          NaN  \n",
       "\n",
       "[5 rows x 54 columns]"
      ]
     },
     "execution_count": 7,
     "metadata": {},
     "output_type": "execute_result"
    }
   ],
   "source": [
    "energy_data_all.head()"
   ]
  },
  {
   "cell_type": "code",
   "execution_count": 8,
   "metadata": {},
   "outputs": [
    {
     "data": {
      "text/plain": [
       "['ICP_IDENTIFIER',\n",
       " 'REGISTER_CONTENTS',\n",
       " 'INTERVAL_DATE',\n",
       " 'Total_Consumption',\n",
       " '00.00-00.30',\n",
       " '00.30-01.00',\n",
       " '01.00-01.30',\n",
       " '01.30-02.00',\n",
       " '02.00-02.30',\n",
       " '02.30-03.00',\n",
       " '03.00-03.30',\n",
       " '03.30-04.00',\n",
       " '04.00-04.30',\n",
       " '04.30-05.00',\n",
       " '05.00-05.30',\n",
       " '05.30-06.00',\n",
       " '06.00-06.30',\n",
       " '06.30-07.00',\n",
       " '07.00-07.30',\n",
       " '07.30-08.00',\n",
       " '08.00-08.30',\n",
       " '08.30-09.00',\n",
       " '09.00-09.30',\n",
       " '09.30-10.00',\n",
       " '10.00-10.30',\n",
       " '10.30-11.00',\n",
       " '11.00-11.30',\n",
       " '11.30-12.00',\n",
       " '12.00-12.30',\n",
       " '12.30-13.00',\n",
       " '13.00-13.30',\n",
       " '13.30-14.00',\n",
       " '14.00-14.30',\n",
       " '14.30-15.00',\n",
       " '15.00-15.30',\n",
       " '15.30-16.00',\n",
       " '16.00-16.30',\n",
       " '16.30-17.00',\n",
       " '17.00-17.30',\n",
       " '17.30-18.00',\n",
       " '18.00-18.30',\n",
       " '18.30-19.00',\n",
       " '19.00-19.30',\n",
       " '19.30-20.00',\n",
       " '20.00-20.30',\n",
       " '20.30-21.00',\n",
       " '21.00-21.30',\n",
       " '21.30-22.00',\n",
       " '22.00-22.30',\n",
       " '22.30-23.00',\n",
       " '23.00-23.30',\n",
       " '23.30-24.00',\n",
       " '24.00-24.30',\n",
       " '24.30-25.00']"
      ]
     },
     "execution_count": 8,
     "metadata": {},
     "output_type": "execute_result"
    }
   ],
   "source": [
    "energy_data_all.columns.tolist()"
   ]
  },
  {
   "cell_type": "code",
   "execution_count": 9,
   "metadata": {},
   "outputs": [
    {
     "name": "stdout",
     "output_type": "stream",
     "text": [
      "\n",
      "Data types:\n",
      "ICP_IDENTIFIER               object\n",
      "REGISTER_CONTENTS            object\n",
      "INTERVAL_DATE        datetime64[ns]\n",
      "Total_Consumption            object\n",
      "00.00-00.30                 float64\n",
      "00.30-01.00                 float64\n",
      "01.00-01.30                 float64\n",
      "01.30-02.00                 float64\n",
      "02.00-02.30                 float64\n",
      "02.30-03.00                 float64\n",
      "03.00-03.30                 float64\n",
      "03.30-04.00                 float64\n",
      "04.00-04.30                 float64\n",
      "04.30-05.00                 float64\n",
      "05.00-05.30                 float64\n",
      "05.30-06.00                 float64\n",
      "06.00-06.30                 float64\n",
      "06.30-07.00                 float64\n",
      "07.00-07.30                 float64\n",
      "07.30-08.00                 float64\n",
      "08.00-08.30                 float64\n",
      "08.30-09.00                 float64\n",
      "09.00-09.30                 float64\n",
      "09.30-10.00                 float64\n",
      "10.00-10.30                 float64\n",
      "10.30-11.00                 float64\n",
      "11.00-11.30                 float64\n",
      "11.30-12.00                 float64\n",
      "12.00-12.30                 float64\n",
      "12.30-13.00                 float64\n",
      "13.00-13.30                 float64\n",
      "13.30-14.00                 float64\n",
      "14.00-14.30                 float64\n",
      "14.30-15.00                 float64\n",
      "15.00-15.30                 float64\n",
      "15.30-16.00                 float64\n",
      "16.00-16.30                 float64\n",
      "16.30-17.00                 float64\n",
      "17.00-17.30                 float64\n",
      "17.30-18.00                 float64\n",
      "18.00-18.30                 float64\n",
      "18.30-19.00                 float64\n",
      "19.00-19.30                 float64\n",
      "19.30-20.00                 float64\n",
      "20.00-20.30                 float64\n",
      "20.30-21.00                 float64\n",
      "21.00-21.30                 float64\n",
      "21.30-22.00                 float64\n",
      "22.00-22.30                 float64\n",
      "22.30-23.00                 float64\n",
      "23.00-23.30                 float64\n",
      "23.30-24.00                 float64\n",
      "24.00-24.30                 float64\n",
      "24.30-25.00                 float64\n",
      "dtype: object\n"
     ]
    }
   ],
   "source": [
    "#data types\n",
    "print(\"\\nData types:\")\n",
    "print(energy_data_all.dtypes)"
   ]
  },
  {
   "cell_type": "markdown",
   "metadata": {},
   "source": [
    "Filtering Uniflats from the dataset"
   ]
  },
  {
   "cell_type": "code",
   "execution_count": 10,
   "metadata": {},
   "outputs": [],
   "source": [
    "new_icps = pd.read_csv('uniflats.csv')"
   ]
  },
  {
   "cell_type": "code",
   "execution_count": 11,
   "metadata": {},
   "outputs": [
    {
     "name": "stdout",
     "output_type": "stream",
     "text": [
      "Unique UniFlat ICPs found in energy data: 118\n"
     ]
    }
   ],
   "source": [
    "#filtering Uniflats from the dataset\n",
    "#list of Uniflat ICPs\n",
    "uniflat_icps = new_icps['ICP'].tolist()\n",
    "\n",
    "#filter energy data to only include Uniflats\n",
    "energy_data_uniflats = energy_data_all[energy_data_all['ICP_IDENTIFIER'].isin(uniflat_icps)]\n",
    "\n",
    "#checking how many unique ICPs are there in the filtered data\n",
    "unique_icps_in_data = energy_data_uniflats['ICP_IDENTIFIER'].nunique()\n",
    "print(f\"Unique UniFlat ICPs found in energy data: {unique_icps_in_data}\")"
   ]
  },
  {
   "cell_type": "code",
   "execution_count": 12,
   "metadata": {},
   "outputs": [
    {
     "name": "stdout",
     "output_type": "stream",
     "text": [
      "\n",
      "Sample of filtered data\n",
      "        ICP_IDENTIFIER REGISTER_CONTENTS INTERVAL_DATE Total_Consumption  \\\n",
      "26352  0000003250DEC06              IN19    2022-01-01              4.69   \n",
      "26353  0000003250DEC06              IN19    2022-01-02              3.06   \n",
      "26354  0000003250DEC06              IN19    2022-01-03              2.97   \n",
      "26355  0000003250DEC06              IN19    2022-01-04              2.94   \n",
      "26356  0000003250DEC06              IN19    2022-01-05              3.03   \n",
      "\n",
      "       00.00-00.30  00.30-01.00  01.00-01.30  01.30-02.00  02.00-02.30  \\\n",
      "26352         0.03         0.02         0.03         0.02         0.03   \n",
      "26353         0.02         0.03         0.03         0.02         0.03   \n",
      "26354         0.03         0.03         0.02         0.03         0.02   \n",
      "26355         0.03         0.02         0.03         0.02         0.03   \n",
      "26356         0.08         0.04         0.04         0.03         0.02   \n",
      "\n",
      "       02.30-03.00  ...  20.00-20.30  20.30-21.00  21.00-21.30  21.30-22.00  \\\n",
      "26352         0.03  ...         0.03         0.02         0.03         0.03   \n",
      "26353         0.02  ...         0.03         0.03         0.02         1.24   \n",
      "26354         0.03  ...         1.45         0.29         0.02         0.03   \n",
      "26355         0.02  ...         0.02         0.03         0.03         0.02   \n",
      "26356         0.03  ...         0.03         0.03         0.02         0.03   \n",
      "\n",
      "       22.00-22.30  22.30-23.00  23.00-23.30  23.30-24.00  24.00-24.30  \\\n",
      "26352         0.02         0.03         0.61         1.13          NaN   \n",
      "26353         0.51         0.02         0.03         0.02          NaN   \n",
      "26354         0.02         0.03         0.03         0.03          NaN   \n",
      "26355         0.03         0.02         0.03         0.03          NaN   \n",
      "26356         0.02         0.03         0.02         0.03          NaN   \n",
      "\n",
      "       24.30-25.00  \n",
      "26352          NaN  \n",
      "26353          NaN  \n",
      "26354          NaN  \n",
      "26355          NaN  \n",
      "26356          NaN  \n",
      "\n",
      "[5 rows x 54 columns]\n"
     ]
    }
   ],
   "source": [
    "print(\"\\nSample of filtered data\")\n",
    "print(energy_data_uniflats.head())"
   ]
  },
  {
   "cell_type": "code",
   "execution_count": 13,
   "metadata": {},
   "outputs": [
    {
     "name": "stdout",
     "output_type": "stream",
     "text": [
      "\n",
      "DST dates:\n",
      "2022-04-03\n",
      "2022-09-25\n",
      "2023-04-02\n",
      "2023-09-24\n",
      "2024-04-07\n"
     ]
    }
   ],
   "source": [
    "#finding Daylight Saving Time dates from the dataset\n",
    "time_cols = [col for col in energy_data_uniflats.columns if '.' in col and '-' in col]\n",
    "\n",
    "autumn_dst_dates = []\n",
    "spring_dst_dates = []\n",
    "\n",
    "for date in energy_data_uniflats['INTERVAL_DATE'].unique():\n",
    "    date_data = energy_data_uniflats[energy_data_uniflats['INTERVAL_DATE'] == date]\n",
    "    \n",
    "    #columns that have positive values\n",
    "    positive_count = sum(1 for col in time_cols if (date_data[col] > 0).any())\n",
    "    \n",
    "    if positive_count == 50: #extra hour\n",
    "        autumn_dst_dates.append(date)\n",
    "    elif positive_count == 46: #missing hour \n",
    "        spring_dst_dates.append(date)\n",
    "\n",
    "#all DST dates\n",
    "all_dst_dates = sorted(set(autumn_dst_dates + spring_dst_dates))\n",
    "\n",
    "print(f\"\\nDST dates:\")\n",
    "for date in all_dst_dates:\n",
    "    print(pd.to_datetime(date).strftime('%Y-%m-%d'))"
   ]
  },
  {
   "cell_type": "code",
   "execution_count": 14,
   "metadata": {},
   "outputs": [
    {
     "name": "stdout",
     "output_type": "stream",
     "text": [
      "Original dataset: 148846 rows\n",
      "After removing DST dates: 148083 rows\n",
      "Removed: 763 rows\n",
      "Removed columns: ['24.00-24.30', '24.30-25.00']\n",
      "Final dataset shape: (148083, 52)\n"
     ]
    }
   ],
   "source": [
    "#removing all DST dates from the dataset\n",
    "energy_data_no_dst = energy_data_uniflats[~energy_data_uniflats['INTERVAL_DATE'].isin(all_dst_dates)].copy()\n",
    "\n",
    "print(f\"Original dataset: {len(energy_data_uniflats)} rows\")\n",
    "print(f\"After removing DST dates: {len(energy_data_no_dst)} rows\")\n",
    "print(f\"Removed: {len(energy_data_uniflats) - len(energy_data_no_dst)} rows\")\n",
    "\n",
    "#removing last two columns from the dataset\n",
    "columns_to_drop = ['24.00-24.30', '24.30-25.00']\n",
    "energy_data_uniform = energy_data_no_dst.drop(columns=columns_to_drop)\n",
    "\n",
    "print(f\"Removed columns: {columns_to_drop}\")\n",
    "print(f\"Final dataset shape: {energy_data_uniform.shape}\")\n",
    "\n"
   ]
  },
  {
   "cell_type": "code",
   "execution_count": 15,
   "metadata": {},
   "outputs": [
    {
     "name": "stdout",
     "output_type": "stream",
     "text": [
      "\n",
      "Sample of uniform dataset:\n",
      "        ICP_IDENTIFIER REGISTER_CONTENTS INTERVAL_DATE Total_Consumption  \\\n",
      "26352  0000003250DEC06              IN19    2022-01-01              4.69   \n",
      "26353  0000003250DEC06              IN19    2022-01-02              3.06   \n",
      "26354  0000003250DEC06              IN19    2022-01-03              2.97   \n",
      "26355  0000003250DEC06              IN19    2022-01-04              2.94   \n",
      "26356  0000003250DEC06              IN19    2022-01-05              3.03   \n",
      "\n",
      "       00.00-00.30  00.30-01.00  01.00-01.30  01.30-02.00  02.00-02.30  \\\n",
      "26352         0.03         0.02         0.03         0.02         0.03   \n",
      "26353         0.02         0.03         0.03         0.02         0.03   \n",
      "26354         0.03         0.03         0.02         0.03         0.02   \n",
      "26355         0.03         0.02         0.03         0.02         0.03   \n",
      "26356         0.08         0.04         0.04         0.03         0.02   \n",
      "\n",
      "       02.30-03.00  ...  19.00-19.30  19.30-20.00  20.00-20.30  20.30-21.00  \\\n",
      "26352         0.03  ...         0.03         0.02         0.03         0.02   \n",
      "26353         0.02  ...         0.04         0.03         0.03         0.03   \n",
      "26354         0.03  ...         0.03         0.02         1.45         0.29   \n",
      "26355         0.02  ...         0.02         0.03         0.02         0.03   \n",
      "26356         0.03  ...         0.03         0.02         0.03         0.03   \n",
      "\n",
      "       21.00-21.30  21.30-22.00  22.00-22.30  22.30-23.00  23.00-23.30  \\\n",
      "26352         0.03         0.03         0.02         0.03         0.61   \n",
      "26353         0.02         1.24         0.51         0.02         0.03   \n",
      "26354         0.02         0.03         0.02         0.03         0.03   \n",
      "26355         0.03         0.02         0.03         0.02         0.03   \n",
      "26356         0.02         0.03         0.02         0.03         0.02   \n",
      "\n",
      "       23.30-24.00  \n",
      "26352         1.13  \n",
      "26353         0.02  \n",
      "26354         0.03  \n",
      "26355         0.03  \n",
      "26356         0.03  \n",
      "\n",
      "[5 rows x 52 columns]\n"
     ]
    }
   ],
   "source": [
    "#sample of clean data\n",
    "print(f\"\\nSample of uniform dataset:\")\n",
    "print(energy_data_uniform.head())"
   ]
  },
  {
   "cell_type": "code",
   "execution_count": 16,
   "metadata": {},
   "outputs": [
    {
     "name": "stdout",
     "output_type": "stream",
     "text": [
      "\n",
      "UNIQUE REGISTER IDENTIFIERS\n",
      "Found 8 unique register codes:\n",
      "  CN11\n",
      "  CN16\n",
      "  CN8\n",
      "  IN16\n",
      "  IN19\n",
      "  IN19|IN19\n",
      "  N8|D16\n",
      "  UN24\n"
     ]
    }
   ],
   "source": [
    "#checking unique register identifiers\n",
    "print(f\"\\nUNIQUE REGISTER IDENTIFIERS\")\n",
    "unique_registers = energy_data_uniform['REGISTER_CONTENTS'].unique()\n",
    "print(f\"Found {len(unique_registers)} unique register codes:\")\n",
    "for register in sorted(unique_registers):\n",
    "    print(f\"  {register}\")"
   ]
  },
  {
   "cell_type": "code",
   "execution_count": 17,
   "metadata": {},
   "outputs": [
    {
     "name": "stdout",
     "output_type": "stream",
     "text": [
      "\n",
      "FIXING REGISTER CONTENT ERRORS\n",
      "Found 4 entries with 'IN19|IN19' error\n",
      "Successfully fixed 4 entries: IN19|IN19 → IN19\n"
     ]
    }
   ],
   "source": [
    "# Fix IN19|IN19 register content errors\n",
    "print(f\"\\nFIXING REGISTER CONTENT ERRORS\")\n",
    "\n",
    "# Sort by ICP and date for proper chronological order\n",
    "energy_data_uniform = energy_data_uniform.sort_values(['ICP_IDENTIFIER', 'INTERVAL_DATE']).reset_index(drop=True)\n",
    "\n",
    "# Find and fix IN19|IN19 errors\n",
    "error_mask = energy_data_uniform['REGISTER_CONTENTS'] == 'IN19|IN19'\n",
    "error_count = error_mask.sum()\n",
    "print(f\"Found {error_count} entries with 'IN19|IN19' error\")\n",
    "\n",
    "if error_count > 0:\n",
    "    fixed_count = 0\n",
    "    for idx in energy_data_uniform[error_mask].index:\n",
    "        current_icp = energy_data_uniform.loc[idx, 'ICP_IDENTIFIER']\n",
    "        \n",
    "        # Check previous row for same ICP with IN19\n",
    "        if idx > 0:\n",
    "            prev_icp = energy_data_uniform.loc[idx-1, 'ICP_IDENTIFIER']\n",
    "            prev_register = energy_data_uniform.loc[idx-1, 'REGISTER_CONTENTS']\n",
    "            \n",
    "            if current_icp == prev_icp and prev_register == 'IN19':\n",
    "                energy_data_uniform.loc[idx, 'REGISTER_CONTENTS'] = 'IN19'\n",
    "                fixed_count += 1\n",
    "    \n",
    "    print(f\"Successfully fixed {fixed_count} entries: IN19|IN19 → IN19\")"
   ]
  },
  {
   "cell_type": "code",
   "execution_count": 18,
   "metadata": {},
   "outputs": [
    {
     "name": "stdout",
     "output_type": "stream",
     "text": [
      "\n",
      "FINAL REGISTER IDENTIFIERS\n",
      "Final count: 7 unique register codes:\n",
      "CN11\n",
      "CN16\n",
      "CN8\n",
      "IN16\n",
      "IN19\n",
      "N8|D16\n",
      "UN24\n",
      "\n",
      "Register cleaning completed!\n"
     ]
    }
   ],
   "source": [
    "print(f\"\\nFINAL REGISTER IDENTIFIERS\")\n",
    "final_registers = energy_data_uniform['REGISTER_CONTENTS'].unique()\n",
    "print(f\"Final count: {len(final_registers)} unique register codes:\")\n",
    "for register in sorted(final_registers):\n",
    "    print(f\"{register}\")\n",
    "\n",
    "print(f\"\\nRegister cleaning completed!\")"
   ]
  },
  {
   "cell_type": "code",
   "execution_count": 19,
   "metadata": {},
   "outputs": [],
   "source": [
    "energy_data_uniform.to_csv('energy_data_dst_cleaned_registers_intact.csv', index=False) #for later analysis"
   ]
  },
  {
   "cell_type": "code",
   "execution_count": 20,
   "metadata": {},
   "outputs": [
    {
     "name": "stdout",
     "output_type": "stream",
     "text": [
      "Aggregating register data for each household...\n"
     ]
    }
   ],
   "source": [
    "time_columns = [col for col in energy_data_uniform.columns if '.' in col and '-' in col]\n",
    "\n",
    "#converting Total_Consumption to numeric first\n",
    "energy_data_uniform['Total_Consumption'] = pd.to_numeric(energy_data_uniform['Total_Consumption'], errors='coerce')\n",
    "\n",
    "#aggregating all register types for each ICP per date\n",
    "print(\"Aggregating register data for each household...\")\n",
    "\n",
    "energy_data_aggregated = energy_data_uniform.groupby(['ICP_IDENTIFIER', 'INTERVAL_DATE']).agg({\n",
    "    **{col: 'sum' for col in time_columns},  \n",
    "    'Total_Consumption': 'sum'  \n",
    "}).reset_index()"
   ]
  },
  {
   "cell_type": "code",
   "execution_count": 21,
   "metadata": {},
   "outputs": [
    {
     "name": "stdout",
     "output_type": "stream",
     "text": [
      "Original dataset shape: (148083, 52)\n",
      "Aggregated dataset shape: (109189, 51)\n"
     ]
    }
   ],
   "source": [
    "#verification\n",
    "print(f\"Original dataset shape: {energy_data_uniform.shape}\")\n",
    "print(f\"Aggregated dataset shape: {energy_data_aggregated.shape}\")\n",
    "\n",
    "#checking how many register types were combined\n",
    "registers_per_icp_day = energy_data_uniform.groupby(['ICP_IDENTIFIER', 'INTERVAL_DATE']).size()\n"
   ]
  },
  {
   "cell_type": "code",
   "execution_count": 22,
   "metadata": {},
   "outputs": [
    {
     "name": "stdout",
     "output_type": "stream",
     "text": [
      "POST-AGGREGATION CHECK\n",
      "Aggregated shape: (109189, 51)\n",
      "Sample of aggregated data:\n",
      "    ICP_IDENTIFIER INTERVAL_DATE  00.00-00.30  00.30-01.00  01.00-01.30  \\\n",
      "0  0000002795DE203    2022-01-01         1.12         1.09         1.02   \n",
      "1  0000002795DE203    2022-01-02         1.10         1.13         1.08   \n",
      "2  0000002795DE203    2022-01-03         0.91         0.94         0.96   \n",
      "3  0000002795DE203    2022-01-04         0.97         0.89         0.94   \n",
      "4  0000002795DE203    2022-01-05         1.41         0.99         0.94   \n",
      "\n",
      "   01.30-02.00  02.00-02.30  02.30-03.00  03.00-03.30  03.30-04.00  ...  \\\n",
      "0         1.11         1.05         1.08         1.56         1.07  ...   \n",
      "1         1.13         1.07         1.10         1.12         1.06  ...   \n",
      "2         0.94         0.93         0.97         0.93         0.97  ...   \n",
      "3         0.94         0.90         0.97         0.93         0.94  ...   \n",
      "4         0.95         0.98         0.92         0.91         0.98  ...   \n",
      "\n",
      "   19.30-20.00  20.00-20.30  20.30-21.00  21.00-21.30  21.30-22.00  \\\n",
      "0         1.08         1.07         1.48         1.10         1.09   \n",
      "1         0.74         0.68         0.72         0.78         0.75   \n",
      "2         0.80         0.82         0.82         0.85         0.90   \n",
      "3         0.79         0.84         0.89         0.89         0.89   \n",
      "4         1.12         1.46         1.05         1.00         0.99   \n",
      "\n",
      "   22.00-22.30  22.30-23.00  23.00-23.30  23.30-24.00  Total_Consumption  \n",
      "0         1.05         1.07         1.17         1.09              51.66  \n",
      "1         0.85         0.86         1.33         0.87              43.77  \n",
      "2         0.84         0.87         0.91         0.83              40.93  \n",
      "3         0.92         0.91         0.92         0.96              42.55  \n",
      "4         1.03         1.06         1.03         1.05              46.02  \n",
      "\n",
      "[5 rows x 51 columns]\n",
      "\n",
      "Data types after aggregation:\n",
      "ICP_IDENTIFIER               object\n",
      "INTERVAL_DATE        datetime64[ns]\n",
      "00.00-00.30                 float64\n",
      "00.30-01.00                 float64\n",
      "01.00-01.30                 float64\n",
      "01.30-02.00                 float64\n",
      "02.00-02.30                 float64\n",
      "02.30-03.00                 float64\n",
      "03.00-03.30                 float64\n",
      "03.30-04.00                 float64\n",
      "04.00-04.30                 float64\n",
      "04.30-05.00                 float64\n",
      "05.00-05.30                 float64\n",
      "05.30-06.00                 float64\n",
      "06.00-06.30                 float64\n",
      "06.30-07.00                 float64\n",
      "07.00-07.30                 float64\n",
      "07.30-08.00                 float64\n",
      "08.00-08.30                 float64\n",
      "08.30-09.00                 float64\n",
      "09.00-09.30                 float64\n",
      "09.30-10.00                 float64\n",
      "10.00-10.30                 float64\n",
      "10.30-11.00                 float64\n",
      "11.00-11.30                 float64\n",
      "11.30-12.00                 float64\n",
      "12.00-12.30                 float64\n",
      "12.30-13.00                 float64\n",
      "13.00-13.30                 float64\n",
      "13.30-14.00                 float64\n",
      "14.00-14.30                 float64\n",
      "14.30-15.00                 float64\n",
      "15.00-15.30                 float64\n",
      "15.30-16.00                 float64\n",
      "16.00-16.30                 float64\n",
      "16.30-17.00                 float64\n",
      "17.00-17.30                 float64\n",
      "17.30-18.00                 float64\n",
      "18.00-18.30                 float64\n",
      "18.30-19.00                 float64\n",
      "19.00-19.30                 float64\n",
      "19.30-20.00                 float64\n",
      "20.00-20.30                 float64\n",
      "20.30-21.00                 float64\n",
      "21.00-21.30                 float64\n",
      "21.30-22.00                 float64\n",
      "22.00-22.30                 float64\n",
      "22.30-23.00                 float64\n",
      "23.00-23.30                 float64\n",
      "23.30-24.00                 float64\n",
      "Total_Consumption           float64\n",
      "dtype: object\n"
     ]
    }
   ],
   "source": [
    "# Right after aggregation, before saving, check the data:\n",
    "print(\"POST-AGGREGATION CHECK\")\n",
    "print(f\"Aggregated shape: {energy_data_aggregated.shape}\")\n",
    "print(\"Sample of aggregated data:\")\n",
    "print(energy_data_aggregated.head())\n",
    "print(\"\\nData types after aggregation:\")\n",
    "print(energy_data_aggregated.dtypes)"
   ]
  },
  {
   "cell_type": "code",
   "execution_count": 23,
   "metadata": {},
   "outputs": [
    {
     "name": "stdout",
     "output_type": "stream",
     "text": [
      "\n",
      "Sample of aggregated data:\n",
      "    ICP_IDENTIFIER INTERVAL_DATE  00.00-00.30  00.30-01.00  01.00-01.30  \\\n",
      "0  0000002795DE203    2022-01-01         1.12         1.09         1.02   \n",
      "1  0000002795DE203    2022-01-02         1.10         1.13         1.08   \n",
      "2  0000002795DE203    2022-01-03         0.91         0.94         0.96   \n",
      "3  0000002795DE203    2022-01-04         0.97         0.89         0.94   \n",
      "4  0000002795DE203    2022-01-05         1.41         0.99         0.94   \n",
      "\n",
      "   01.30-02.00  02.00-02.30  02.30-03.00  03.00-03.30  03.30-04.00  ...  \\\n",
      "0         1.11         1.05         1.08         1.56         1.07  ...   \n",
      "1         1.13         1.07         1.10         1.12         1.06  ...   \n",
      "2         0.94         0.93         0.97         0.93         0.97  ...   \n",
      "3         0.94         0.90         0.97         0.93         0.94  ...   \n",
      "4         0.95         0.98         0.92         0.91         0.98  ...   \n",
      "\n",
      "   19.30-20.00  20.00-20.30  20.30-21.00  21.00-21.30  21.30-22.00  \\\n",
      "0         1.08         1.07         1.48         1.10         1.09   \n",
      "1         0.74         0.68         0.72         0.78         0.75   \n",
      "2         0.80         0.82         0.82         0.85         0.90   \n",
      "3         0.79         0.84         0.89         0.89         0.89   \n",
      "4         1.12         1.46         1.05         1.00         0.99   \n",
      "\n",
      "   22.00-22.30  22.30-23.00  23.00-23.30  23.30-24.00  Total_Consumption  \n",
      "0         1.05         1.07         1.17         1.09              51.66  \n",
      "1         0.85         0.86         1.33         0.87              43.77  \n",
      "2         0.84         0.87         0.91         0.83              40.93  \n",
      "3         0.92         0.91         0.92         0.96              42.55  \n",
      "4         1.03         1.06         1.03         1.05              46.02  \n",
      "\n",
      "[5 rows x 51 columns]\n"
     ]
    }
   ],
   "source": [
    "#sample of aggregated data\n",
    "print(\"\\nSample of aggregated data:\")\n",
    "print(energy_data_aggregated.head())\n"
   ]
  },
  {
   "cell_type": "code",
   "execution_count": 24,
   "metadata": {},
   "outputs": [
    {
     "name": "stdout",
     "output_type": "stream",
     "text": [
      "\n",
      "Final dataset columns: ['ICP_IDENTIFIER', 'INTERVAL_DATE', '00.00-00.30', '00.30-01.00', '01.00-01.30', '01.30-02.00', '02.00-02.30', '02.30-03.00', '03.00-03.30', '03.30-04.00', '04.00-04.30', '04.30-05.00', '05.00-05.30', '05.30-06.00', '06.00-06.30', '06.30-07.00', '07.00-07.30', '07.30-08.00', '08.00-08.30', '08.30-09.00', '09.00-09.30', '09.30-10.00', '10.00-10.30', '10.30-11.00', '11.00-11.30', '11.30-12.00', '12.00-12.30', '12.30-13.00', '13.00-13.30', '13.30-14.00', '14.00-14.30', '14.30-15.00', '15.00-15.30', '15.30-16.00', '16.00-16.30', '16.30-17.00', '17.00-17.30', '17.30-18.00', '18.00-18.30', '18.30-19.00', '19.00-19.30', '19.30-20.00', '20.00-20.30', '20.30-21.00', '21.00-21.30', '21.30-22.00', '22.00-22.30', '22.30-23.00', '23.00-23.30', '23.30-24.00', 'Total_Consumption']\n"
     ]
    }
   ],
   "source": [
    "print(f\"\\nFinal dataset columns: {list(energy_data_aggregated.columns)}\")"
   ]
  },
  {
   "cell_type": "code",
   "execution_count": 25,
   "metadata": {},
   "outputs": [
    {
     "name": "stdout",
     "output_type": "stream",
     "text": [
      "Cleaned data has been saved.\n"
     ]
    }
   ],
   "source": [
    "energy_data_aggregated.to_csv('cleaned_energy_data.csv', index=False)\n",
    "print(\"Cleaned data has been saved.\")"
   ]
  }
 ],
 "metadata": {
  "kernelspec": {
   "display_name": "base",
   "language": "python",
   "name": "python3"
  },
  "language_info": {
   "codemirror_mode": {
    "name": "ipython",
    "version": 3
   },
   "file_extension": ".py",
   "mimetype": "text/x-python",
   "name": "python",
   "nbconvert_exporter": "python",
   "pygments_lexer": "ipython3",
   "version": "3.12.4"
  }
 },
 "nbformat": 4,
 "nbformat_minor": 2
}
